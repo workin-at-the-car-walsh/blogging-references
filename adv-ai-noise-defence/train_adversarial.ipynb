{
 "cells": [
  {
   "cell_type": "code",
   "execution_count": 1,
   "metadata": {},
   "outputs": [
    {
     "name": "stdout",
     "output_type": "stream",
     "text": [
      "TensorFlow version:  2.12.0\n"
     ]
    }
   ],
   "source": [
    "# import necessary packages\n",
    "import sys\n",
    "import os\n",
    "import argparse\n",
    "import json\n",
    "import numpy as np\n",
    "import cv2\n",
    "import matplotlib.pyplot as plt\n",
    "import matplotlib.image as mpimg\n",
    "\n",
    "# TensorFlow and tf.keras\n",
    "import tensorflow as tf\n",
    "from tensorflow.keras.applications import ResNet50\n",
    "from tensorflow.keras.applications.resnet50 import decode_predictions\n",
    "from tensorflow.keras.applications.resnet50 import preprocess_input\n",
    "from tensorflow.keras.optimizers import Adam\n",
    "from tensorflow.keras.losses import SparseCategoricalCrossentropy\n",
    "from tensorflow.keras.layers import Input, Add, Lambda, GaussianNoise\n",
    "from tensorflow.keras.models import Model\n",
    "print('TensorFlow version: ', tf.__version__)\n",
    "\n",
    "def get_target_class_index(label):\n",
    "    label = label.lower().replace('_', ' ')\n",
    "    jsonPath = ('./imagenet_index.json')\n",
    "    with open(jsonPath) as json_file:\n",
    "        mapping_dict = json.load(json_file)\n",
    "    return mapping_dict.get(label, None)    # default to None when Key not found\n",
    "\n",
    "def preprocess_image(image):\n",
    "\t# swap color channels, resize the image, and add in a batch dimension\n",
    "    image = cv2.cvtColor(image, cv2.COLOR_BGR2RGB)\n",
    "    image = cv2.resize(image, (224, 224))\n",
    "    image = np.expand_dims(image, axis=0)\n",
    "    return image\n",
    "\n",
    "def clip_eps(tensor, eps):\n",
    "\t# clip the values of input tensor to the range [-eps, eps]\n",
    "\treturn tf.clip_by_value(tensor, clip_value_min = -eps, clip_value_max = eps)\n",
    "\n",
    "def generate_target_adversaries(model, base_image, delta, original_class_index, target_class_index, steps, noise_tf):\n",
    "\tloss_list = [['step', 'loss','orig_loss', 'target_loss']]\n",
    "\tfor step in range(0, steps):\n",
    "\t\twith tf.GradientTape() as tape:\n",
    "\t\t\ttape.watch(delta)\n",
    "\t\t\tmu, sigma = 0, 20\n",
    "\t\t\tnoise = np.random.normal(mu, sigma, [1,224,224,3])\n",
    "            # add our perturbation vector to the base image and preprocess the resulting image\n",
    "\t\t\tadversary = preprocess_input(base_image + delta)\n",
    "\t\t\tif noise_tf is True:\n",
    "\t\t\t\tadversary += noise\n",
    "\t\t\t# run this newly constructed image through the model and calculate the loss below\n",
    "\t\t\tpredictions = model(adversary, training=False)\n",
    "            # compute the negative sparse categorical cross-entropy loss with respect to the *original* class index\n",
    "\t\t\toriginalLoss = sccLoss(tf.convert_to_tensor([int(original_class_index)]), predictions)\n",
    "\t\t\t#originalLoss_neg = -sccLoss(tf.convert_to_tensor([int(original_class_index)]), predictions)\n",
    "\t\t\t# print(originalLoss.numpy())\n",
    "\t\t\t# print(originalLoss_neg.numpy())\n",
    "            # compute the positive sparse categorical cross-entropy loss with respect to the *target* class index\n",
    "\t\t\ttargetLoss = sccLoss(tf.convert_to_tensor([int(target_class_index)]), predictions)\n",
    "\t\t\t# record the loss computation inside tape\n",
    "\t\t\ttotalLoss = -originalLoss + targetLoss\n",
    "\t\t\tloss_list.append([step, totalLoss.numpy(), originalLoss.numpy(), targetLoss.numpy()])\n",
    "\t\t\t# display the loss every 10 steps\n",
    "\t\t\tif step % 25 == 0:\n",
    "\t\t\t\tprint('step: {}, loss: {}'.format(step, totalLoss.numpy()))\n",
    "\t\t\t\n",
    "        \n",
    "\t\t# calculate the gradients of loss with respect to the perturbation vector\n",
    "\t\tgradients = tape.gradient(totalLoss, delta)\n",
    "\n",
    "\t\t# update the weights, clip the perturbation vector, and update its value\n",
    "\t\toptimizer.apply_gradients([(gradients, delta)])\n",
    "\t\tdelta.assign_add(clip_eps(delta, eps=epsilon))\n",
    "\n",
    "\treturn delta, loss_list\n",
    "\n",
    "\n",
    "# parse arguments from command line\n",
    "# parser = argparse.ArgumentParser()\n",
    "# parser.add_argument('file_in', help='input file name')\n",
    "# parser.add_argument('target_class', help='target class name')\n",
    "# args = parser.parse_args()\n",
    "\n",
    "def classify_image(model, image, noise_tf=False):\n",
    "    mu, sigma = 0, 30\n",
    "    noise = np.random.normal(mu, sigma, [1,224,224,3])\n",
    "\n",
    "    #predict off adverse image created from noisy model\n",
    "    input_image = preprocess_image(cv2.imread(image))\n",
    "    preprocessed_input = preprocess_input(input_image)\n",
    "    if noise_tf is True:\n",
    "        preprocessed_input += noise\n",
    "    predictions = model.predict(preprocessed_input)\n",
    "\n",
    "    predictions = decode_predictions(predictions, top=3)[0]\n",
    "    #print('Top 3 Predictions on Adversarial Image (With Noise): ', predictions)\n",
    "    adv_label = predictions[0][1]\n",
    "    adv_confidence = predictions[0][2]\n",
    "    print(adv_label, adv_confidence)\n",
    "\n"
   ]
  },
  {
   "cell_type": "code",
   "execution_count": 10,
   "metadata": {},
   "outputs": [
    {
     "name": "stdout",
     "output_type": "stream",
     "text": [
      "Input Filename:  input.jpg\n",
      "Target Class:  beer glass\n",
      "Target Class Index:  441\n",
      "1/1 [==============================] - 2s 2s/step\n",
      "1/1 [==============================] - 0s 150ms/step\n",
      "Top 3 Predictions:  [('n02395406', 'hog', 0.9992756), ('n02396427', 'wild_boar', 0.00045690412), ('n03935335', 'piggy_bank', 0.00021880098)]\n",
      "Top 3 Noise Predictions:  [('n02395406', 'hog', 0.9911566), ('n03935335', 'piggy_bank', 0.004149576), ('n02108915', 'French_bulldog', 0.0012621154)]\n",
      "Original Class Index:  341\n",
      "initial delta norm\n",
      "tf.Tensor(0.0, shape=(), dtype=float32)\n",
      "step: 0, loss: 23.31926727294922\n",
      "step: 25, loss: 6.616311073303223\n",
      "step: 50, loss: 1.2289962768554688\n",
      "step: 75, loss: -3.3133111000061035\n",
      "step: 100, loss: -8.585748672485352\n",
      "step: 125, loss: -15.421655654907227\n",
      "step: 150, loss: -22.383882522583008\n",
      "step: 175, loss: -31.274866104125977\n",
      "step: 200, loss: -44.28492736816406\n",
      "step: 225, loss: -58.981414794921875\n",
      "step: 250, loss: -72.10134887695312\n",
      "step: 275, loss: -83.00299835205078\n",
      "post nonoise delta norm\n"
     ]
    },
    {
     "data": {
      "text/plain": [
       "True"
      ]
     },
     "execution_count": 10,
     "metadata": {},
     "output_type": "execute_result"
    }
   ],
   "source": [
    "target_class = 'beer glass'\n",
    "file_in = 'input.jpg'\n",
    "\n",
    "target_index = get_target_class_index(target_class)\n",
    "if target_index == None:\n",
    "    print('Error: Target class does not exist in ImageNet.')\n",
    "    sys.exit(0)\n",
    "\n",
    "print('Input Filename: ', file_in)\n",
    "print('Target Class: ', target_class)\n",
    "print('Target Class Index: ', target_index)\n",
    "\n",
    "# preprocess the input image\n",
    "input_image = preprocess_image(cv2.imread(file_in))\n",
    "preprocessed_input = preprocess_input(input_image)\n",
    "\n",
    "# load the pre-trained ResNet50 model with ImageNet weights\n",
    "model = ResNet50(weights = 'imagenet')\n",
    "\n",
    "# make predictions on the input image and return the top 3 results\n",
    "mu, sigma = 0, 20\n",
    "noise = np.random.normal(mu, sigma, [1,224,224,3])\n",
    "predictions = model.predict(preprocessed_input)\n",
    "noise_predictions = model.predict(preprocessed_input+noise)\n",
    "predictions = decode_predictions(predictions, top=3)[0]\n",
    "noise_predictions = decode_predictions(noise_predictions, top=3)[0]\n",
    "print('Top 3 Predictions: ', predictions)\n",
    "print('Top 3 Noise Predictions: ', noise_predictions)\n",
    "original_label = predictions[0][1]\n",
    "original_confidence = predictions[0][2]\n",
    "original_index = get_target_class_index(original_label)\n",
    "print('Original Class Index: ', original_index)\n",
    "\n",
    "# # # define the epsilon, learning rate and step number values\n",
    "epsilon = 0.01\n",
    "learning_rate = 0.01\n",
    "num_of_steps = 300\n",
    "\n",
    "# initialize optimizer and loss function\n",
    "optimizer = Adam(learning_rate = learning_rate)\n",
    "sccLoss = SparseCategoricalCrossentropy()\n",
    "\n",
    "# create a tensor based off the input image and initialize the perturbation vector (we will update this vector via training)\n",
    "baseImage = tf.constant(input_image, dtype=tf.float32)\n",
    "delta = tf.Variable(tf.zeros_like(baseImage), trainable=True)\n",
    "print('initial delta norm')\n",
    "print(tf.norm(delta))\n",
    "\n",
    "# generate the perturbation vector to create an adversarial example\n",
    "nonoise_deltaUpdated, nonoise_loss_list = generate_target_adversaries(model, baseImage, delta, original_index, target_index, num_of_steps, False)\n",
    "print('post nonoise delta norm')\n",
    "tf.norm(delta)\n",
    "\n",
    "import pickle\n",
    "\n",
    "with open('nonoise_loss_list', 'wb') as f:\n",
    "    pickle.dump(nonoise_loss_list, f)\n",
    "    f.close()\n",
    "\n",
    "\n",
    "# # create the adversarial example, swap color channels, and save the output image to disk\n",
    "adverImage = (baseImage + nonoise_deltaUpdated).numpy().squeeze()\n",
    "adverImage = np.clip(adverImage, 0, 255).astype('uint8')\n",
    "adverImage = cv2.cvtColor(adverImage, cv2.COLOR_RGB2BGR)\n",
    "cv2.imwrite('output_300_nonoise.png', adverImage)"
   ]
  },
  {
   "cell_type": "code",
   "execution_count": 11,
   "metadata": {},
   "outputs": [
    {
     "name": "stdout",
     "output_type": "stream",
     "text": [
      "Input Filename:  input.jpg\n",
      "Target Class:  beer glass\n",
      "Target Class Index:  441\n",
      "1/1 [==============================] - 1s 1s/step\n",
      "1/1 [==============================] - 0s 148ms/step\n",
      "Top 3 Predictions:  [('n02395406', 'hog', 0.9992756), ('n02396427', 'wild_boar', 0.00045690412), ('n03935335', 'piggy_bank', 0.00021880098)]\n",
      "Top 3 Noise Predictions:  [('n02395406', 'hog', 0.9853537), ('n03935335', 'piggy_bank', 0.009895423), ('n02396427', 'wild_boar', 0.002359953)]\n",
      "Original Class Index:  341\n",
      "initial delta norm\n",
      "tf.Tensor(0.0, shape=(), dtype=float32)\n",
      "step: 0, loss: 19.7485408782959\n",
      "step: 25, loss: 17.421634674072266\n",
      "step: 50, loss: 14.745100021362305\n",
      "step: 75, loss: 16.054157257080078\n",
      "step: 100, loss: 15.714643478393555\n",
      "step: 125, loss: 14.938762664794922\n",
      "step: 150, loss: 14.074379920959473\n",
      "step: 175, loss: 14.054966926574707\n",
      "step: 200, loss: 10.749200820922852\n",
      "step: 225, loss: 11.914125442504883\n",
      "step: 250, loss: 13.302120208740234\n",
      "step: 275, loss: 12.50942611694336\n",
      "post noise delta norm\n"
     ]
    },
    {
     "data": {
      "text/plain": [
       "True"
      ]
     },
     "execution_count": 11,
     "metadata": {},
     "output_type": "execute_result"
    }
   ],
   "source": [
    "### NOISY ###\n",
    "\n",
    "target_class = 'beer glass'\n",
    "file_in = 'input.jpg'\n",
    "\n",
    "target_index = get_target_class_index(target_class)\n",
    "if target_index == None:\n",
    "    print('Error: Target class does not exist in ImageNet.')\n",
    "    sys.exit(0)\n",
    "\n",
    "print('Input Filename: ', file_in)\n",
    "print('Target Class: ', target_class)\n",
    "print('Target Class Index: ', target_index)\n",
    "\n",
    "# preprocess the input image\n",
    "input_image = preprocess_image(cv2.imread(file_in))\n",
    "preprocessed_input = preprocess_input(input_image)\n",
    "\n",
    "# load the pre-trained ResNet50 model with ImageNet weights\n",
    "model = ResNet50(weights = 'imagenet')\n",
    "\n",
    "# make predictions on the input image and return the top 3 results\n",
    "mu, sigma = 0, 20\n",
    "noise = np.random.normal(mu, sigma, [1,224,224,3])\n",
    "predictions = model.predict(preprocessed_input)\n",
    "noise_predictions = model.predict(preprocessed_input+noise)\n",
    "predictions = decode_predictions(predictions, top=3)[0]\n",
    "noise_predictions = decode_predictions(noise_predictions, top=3)[0]\n",
    "print('Top 3 Predictions: ', predictions)\n",
    "print('Top 3 Noise Predictions: ', noise_predictions)\n",
    "original_label = predictions[0][1]\n",
    "original_confidence = predictions[0][2]\n",
    "original_index = get_target_class_index(original_label)\n",
    "print('Original Class Index: ', original_index)\n",
    "\n",
    "# # # define the epsilon, learning rate and step number values\n",
    "epsilon = 0.01\n",
    "learning_rate = 0.01\n",
    "num_of_steps = 300\n",
    "\n",
    "# initialize optimizer and loss function\n",
    "optimizer = Adam(learning_rate = learning_rate)\n",
    "sccLoss = SparseCategoricalCrossentropy()\n",
    "\n",
    "# create a tensor based off the input image and initialize the perturbation vector (we will update this vector via training)\n",
    "baseImage = tf.constant(input_image, dtype=tf.float32)\n",
    "delta1 = tf.Variable(tf.zeros_like(baseImage), trainable=True)\n",
    "print('initial delta norm')\n",
    "print(tf.norm(delta1))\n",
    "\n",
    "deltaUpdated, loss_list = generate_target_adversaries(model, baseImage, delta1, original_index, target_index, num_of_steps, True)\n",
    "print('post noise delta norm')\n",
    "tf.norm(delta1)\n",
    "\n",
    "with open('loss_list', 'wb') as f:\n",
    "    pickle.dump(loss_list, f)\n",
    "    f.close()\n",
    "\n",
    "\n",
    "# # create the adversarial example, swap color channels, and save the output image to disk\n",
    "\n",
    "adverImage1 = (baseImage + deltaUpdated).numpy().squeeze()\n",
    "adverImage1 = np.clip(adverImage1, 0, 255).astype('uint8')\n",
    "adverImage1 = cv2.cvtColor(adverImage1, cv2.COLOR_RGB2BGR)\n",
    "cv2.imwrite('output_300.png', adverImage1)"
   ]
  },
  {
   "cell_type": "code",
   "execution_count": 14,
   "metadata": {},
   "outputs": [],
   "source": [
    "import matplotlib.pyplot as plt\n",
    "import pandas as pd\n",
    "\n",
    "with open(\"loss_list\", \"rb\") as fp:   # Unpickling\n",
    "    loss_list_content = pickle.load(fp)\n",
    "    fp.close()\n",
    "\n",
    "with open(\"nonoise_loss_list\", \"rb\") as fp:   # Unpickling\n",
    "    nonoise_loss_list_content = pickle.load(fp)\n",
    "    fp.close()\n",
    "\n",
    "h=nonoise_loss_list_content.pop(0)\n",
    "nonoise_df = pd.DataFrame(data=nonoise_loss_list_content, columns=h)\n",
    "h1=loss_list_content.pop(0)\n",
    "df = pd.DataFrame(data=loss_list_content, columns=h1)"
   ]
  },
  {
   "cell_type": "code",
   "execution_count": 15,
   "metadata": {},
   "outputs": [
    {
     "name": "stdout",
     "output_type": "stream",
     "text": [
      "loss plots\n"
     ]
    },
    {
     "data": {
      "image/png": "[encoded data removed]",
      "text/plain": [
       "<Figure size 1000x400 with 2 Axes>"
      ]
     },
     "metadata": {},
     "output_type": "display_data"
    }
   ],
   "source": [
    "df3 = df.join(nonoise_df[['loss','orig_loss','target_loss']], rsuffix='_nonoise')\n",
    "fig,ax = plt.subplots(ncols=2, figsize=(10,4))\n",
    "\n",
    "#'loss','lossnonoise',\n",
    "for a in ['orig_loss','target_loss']:\n",
    "    ax[1].plot(df3['step'],df3[a],label=a)\n",
    "for a in ['orig_loss_nonoise','target_loss_nonoise']:\n",
    "    ax[0].plot(df3['step'],df3[a],label=a)\n",
    "\n",
    "\n",
    "\n",
    "ax[0].set_xlabel(\"step\")\n",
    "ax[0].set_ylabel(\"loss\")\n",
    "ax[0].legend(loc='best')\n",
    "ax[0].set_yticks(np.arange(-5, 100, 5))\n",
    "\n",
    "ax[1].set_xlabel(\"step\")\n",
    "ax[1].set_ylabel(\"loss\")\n",
    "ax[1].legend(loc='best')\n",
    "ax[1].set_yticks(np.arange(-5, 100, 5))\n",
    "\n",
    "print('loss plots')"
   ]
  },
  {
   "cell_type": "code",
   "execution_count": 35,
   "metadata": {},
   "outputs": [
    {
     "name": "stdout",
     "output_type": "stream",
     "text": [
      "1/1 [==============================] - 0s 141ms/step\n",
      "hog 0.9992756\n"
     ]
    }
   ],
   "source": [
    "classify_image(model, './input.jpg')"
   ]
  },
  {
   "cell_type": "code",
   "execution_count": 26,
   "metadata": {},
   "outputs": [
    {
     "name": "stdout",
     "output_type": "stream",
     "text": [
      "1/1 [==============================] - 0s 182ms/step\n",
      "beer_glass 0.9934277\n"
     ]
    }
   ],
   "source": [
    "classify_image(model, './output_300_nonoise.png')"
   ]
  },
  {
   "cell_type": "code",
   "execution_count": 33,
   "metadata": {},
   "outputs": [
    {
     "name": "stdout",
     "output_type": "stream",
     "text": [
      "1/1 [==============================] - 0s 144ms/step\n",
      "hog 0.5648216\n"
     ]
    }
   ],
   "source": [
    "classify_image(model, './output_300.png', False)"
   ]
  }
 ],
 "metadata": {
  "kernelspec": {
   "display_name": "Python 3",
   "language": "python",
   "name": "python3"
  },
  "language_info": {
   "codemirror_mode": {
    "name": "ipython",
    "version": 3
   },
   "file_extension": ".py",
   "mimetype": "text/x-python",
   "name": "python",
   "nbconvert_exporter": "python",
   "pygments_lexer": "ipython3",
   "version": "3.11.2"
  },
  "orig_nbformat": 4
 },
 "nbformat": 4,
 "nbformat_minor": 2
}
